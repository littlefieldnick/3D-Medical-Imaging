{
  "nbformat": 4,
  "nbformat_minor": 0,
  "metadata": {
    "colab": {
      "name": "3D Medical Image Analysis.ipynb",
      "provenance": [],
      "collapsed_sections": [],
      "toc_visible": true,
      "mount_file_id": "1amD4-PHF4rlJgLbBNVqbIInaHHUjq6jL",
      "authorship_tag": "ABX9TyM51TcYewdIH5ymM93Lc3pB",
      "include_colab_link": true
    },
    "kernelspec": {
      "name": "python3",
      "display_name": "Python 3"
    }
  },
  "cells": [
    {
      "cell_type": "markdown",
      "metadata": {
        "id": "view-in-github",
        "colab_type": "text"
      },
      "source": [
        "<a href=\"https://colab.research.google.com/github/littlefieldnick/3D-Medical-Imaging/blob/master/3D_Medical_Image_Analysis.ipynb\" target=\"_parent\"><img src=\"https://colab.research.google.com/assets/colab-badge.svg\" alt=\"Open In Colab\"/></a>"
      ]
    },
    {
      "cell_type": "code",
      "metadata": {
        "id": "Akf_WbmsHN8E",
        "colab_type": "code",
        "colab": {}
      },
      "source": [
        "import numpy as np\n",
        "import pandas as pd\n",
        "import nibabel as nib\n",
        "import matplotlib.pyplot as plt\n",
        "import torch\n",
        "import os"
      ],
      "execution_count": 1,
      "outputs": []
    },
    {
      "cell_type": "markdown",
      "metadata": {
        "id": "bxIO5lkcHXUn",
        "colab_type": "text"
      },
      "source": [
        "# Milestone #1: Training and Validation Setup\n",
        "Workflow\n",
        "\n",
        "- Download the training and validation data.\n",
        "Note that this the uncompressed dataset in the introduction.\n",
        "- Open a pair of T1-w and T2-w images (the first six characters of the filename identifies a unique subject).\n",
        "- Plot a slice of the 3D image volume to the screen from both images and verify that the anatomy approximately aligns."
      ]
    },
    {
      "cell_type": "code",
      "metadata": {
        "id": "-CEqJziZI6-p",
        "colab_type": "code",
        "colab": {
          "base_uri": "https://localhost:8080/",
          "height": 1000
        },
        "outputId": "a63c5543-2b11-46e9-b9be-dbb9e9f6e56a"
      },
      "source": [
        "!unzip '/content/drive/My Drive/3D Medical Imaging Analysis/small_data.zip'"
      ],
      "execution_count": 3,
      "outputs": [
        {
          "output_type": "stream",
          "text": [
            "Archive:  /content/drive/My Drive/3D Medical Imaging Analysis/small_data.zip\n",
            "   creating: small/\n",
            "   creating: small/t1/\n",
            "  inflating: small/t1/IXI102-HH-1416-T1_fcm.nii.gz  \n",
            "  inflating: small/t1/IXI104-HH-1450-T1_fcm.nii.gz  \n",
            "  inflating: small/t1/IXI105-HH-1471-T1_fcm.nii.gz  \n",
            "  inflating: small/t1/IXI126-HH-1437-T1_fcm.nii.gz  \n",
            "  inflating: small/t1/IXI127-HH-1451-T1_fcm.nii.gz  \n",
            "  inflating: small/t1/IXI128-HH-1470-T1_fcm.nii.gz  \n",
            "  inflating: small/t1/IXI130-HH-1528-T1_fcm.nii.gz  \n",
            "  inflating: small/t1/IXI131-HH-1527-T1_fcm.nii.gz  \n",
            "  inflating: small/t1/IXI132-HH-1415-T1_fcm.nii.gz  \n",
            "  inflating: small/t1/IXI136-HH-1452-T1_fcm.nii.gz  \n",
            "  inflating: small/t1/IXI137-HH-1472-T1_fcm.nii.gz  \n",
            "  inflating: small/t1/IXI146-HH-1389-T1_fcm.nii.gz  \n",
            "  inflating: small/t1/IXI148-HH-1453-T1_fcm.nii.gz  \n",
            "  inflating: small/t1/IXI150-HH-1550-T1_fcm.nii.gz  \n",
            "  inflating: small/t1/IXI159-HH-1549-T1_fcm.nii.gz  \n",
            "  inflating: small/t1/IXI160-HH-1637-T1_fcm.nii.gz  \n",
            "  inflating: small/t1/IXI161-HH-2533-T1_fcm.nii.gz  \n",
            "  inflating: small/t1/IXI162-HH-1548-T1_fcm.nii.gz  \n",
            "  inflating: small/t1/IXI163-HH-1621-T1_fcm.nii.gz  \n",
            "  inflating: small/t1/IXI165-HH-1589-T1_fcm.nii.gz  \n",
            "  inflating: small/t1/IXI167-HH-1569-T1_fcm.nii.gz  \n",
            "  inflating: small/t1/IXI168-HH-1607-T1_fcm.nii.gz  \n",
            "  inflating: small/t1/IXI173-HH-1590-T1_fcm.nii.gz  \n",
            "  inflating: small/t1/IXI174-HH-1571-T1_fcm.nii.gz  \n",
            "  inflating: small/t1/IXI175-HH-1570-T1_fcm.nii.gz  \n",
            "  inflating: small/t1/IXI176-HH-1604-T1_fcm.nii.gz  \n",
            "  inflating: small/t1/IXI180-HH-1605-T1_fcm.nii.gz  \n",
            "  inflating: small/t1/IXI195-HH-1620-T1_fcm.nii.gz  \n",
            "   creating: small/t2/\n",
            "  inflating: small/t2/IXI102-HH-1416-T2_reg_fcm.nii.gz  \n",
            "  inflating: small/t2/IXI104-HH-1450-T2_reg_fcm.nii.gz  \n",
            "  inflating: small/t2/IXI105-HH-1471-T2_reg_fcm.nii.gz  \n",
            "  inflating: small/t2/IXI126-HH-1437-T2_reg_fcm.nii.gz  \n",
            "  inflating: small/t2/IXI127-HH-1451-T2_reg_fcm.nii.gz  \n",
            "  inflating: small/t2/IXI128-HH-1470-T2_reg_fcm.nii.gz  \n",
            "  inflating: small/t2/IXI130-HH-1528-T2_reg_fcm.nii.gz  \n",
            "  inflating: small/t2/IXI131-HH-1527-T2_reg_fcm.nii.gz  \n",
            "  inflating: small/t2/IXI132-HH-1415-T2_reg_fcm.nii.gz  \n",
            "  inflating: small/t2/IXI136-HH-1452-T2_reg_fcm.nii.gz  \n",
            "  inflating: small/t2/IXI137-HH-1472-T2_reg_fcm.nii.gz  \n",
            "  inflating: small/t2/IXI146-HH-1389-T2_reg_fcm.nii.gz  \n",
            "  inflating: small/t2/IXI148-HH-1453-T2_reg_fcm.nii.gz  \n",
            "  inflating: small/t2/IXI150-HH-1550-T2_reg_fcm.nii.gz  \n",
            "  inflating: small/t2/IXI159-HH-1549-T2_reg_fcm.nii.gz  \n",
            "  inflating: small/t2/IXI160-HH-1637-T2_reg_fcm.nii.gz  \n",
            "  inflating: small/t2/IXI161-HH-2533-T2_reg_fcm.nii.gz  \n",
            "  inflating: small/t2/IXI162-HH-1548-T2_reg_fcm.nii.gz  \n",
            "  inflating: small/t2/IXI163-HH-1621-T2_reg_fcm.nii.gz  \n",
            "  inflating: small/t2/IXI165-HH-1589-T2_reg_fcm.nii.gz  \n",
            "  inflating: small/t2/IXI167-HH-1569-T2_reg_fcm.nii.gz  \n",
            "  inflating: small/t2/IXI168-HH-1607-T2_reg_fcm.nii.gz  \n",
            "  inflating: small/t2/IXI173-HH-1590-T2_reg_fcm.nii.gz  \n",
            "  inflating: small/t2/IXI174-HH-1571-T2_reg_fcm.nii.gz  \n",
            "  inflating: small/t2/IXI175-HH-1570-T2_reg_fcm.nii.gz  \n",
            "  inflating: small/t2/IXI176-HH-1604-T2_reg_fcm.nii.gz  \n",
            "  inflating: small/t2/IXI180-HH-1605-T2_reg_fcm.nii.gz  \n",
            "  inflating: small/t2/IXI195-HH-1620-T2_reg_fcm.nii.gz  \n"
          ],
          "name": "stdout"
        }
      ]
    },
    {
      "cell_type": "code",
      "metadata": {
        "id": "Zf_aNj9QgecF",
        "colab_type": "code",
        "colab": {}
      },
      "source": [
        "def load_image(t1_file, t2_file):\n",
        "  \"\"\"\n",
        "  Load a give T1-w and T2-w pair\n",
        "\n",
        "  Args:\n",
        "    - t1_file: Path to T1-w image\n",
        "    - t2_file: Path to T2-w image\n",
        "\n",
        "  Returns:\n",
        "    (t1, t2): tuple containing loaded T1-w and T2-w images\n",
        "  \"\"\"\n",
        "\n",
        "  t1, t2 = nib.load(t1_file).get_fdata(), nib.load(t2_file).get_fdata()\n",
        "\n",
        "  return (t1, t2)"
      ],
      "execution_count": 4,
      "outputs": []
    },
    {
      "cell_type": "code",
      "metadata": {
        "id": "DWK4YBycHmdE",
        "colab_type": "code",
        "colab": {}
      },
      "source": [
        "t1_pth = \"/content/small/t1/IXI102-HH-1416-T1_fcm.nii.gz\"\n",
        "t2_pth = \"/content/small/t2/IXI102-HH-1416-T2_reg_fcm.nii.gz\""
      ],
      "execution_count": 5,
      "outputs": []
    },
    {
      "cell_type": "code",
      "metadata": {
        "id": "_fhtq3P_hLKx",
        "colab_type": "code",
        "colab": {}
      },
      "source": [
        "t1, t2 = load_image(t1_pth, t2_pth)"
      ],
      "execution_count": 74,
      "outputs": []
    },
    {
      "cell_type": "code",
      "metadata": {
        "id": "ft6q-tu7HxRa",
        "colab_type": "code",
        "colab": {
          "base_uri": "https://localhost:8080/",
          "height": 34
        },
        "outputId": "980af87f-7a55-486b-891f-a17d48c6f6d6"
      },
      "source": [
        "t1.shape, t2.shape"
      ],
      "execution_count": 75,
      "outputs": [
        {
          "output_type": "execute_result",
          "data": {
            "text/plain": [
              "((120, 120, 90), (120, 120, 90))"
            ]
          },
          "metadata": {
            "tags": []
          },
          "execution_count": 75
        }
      ]
    },
    {
      "cell_type": "code",
      "metadata": {
        "id": "dbzCt7dULy5s",
        "colab_type": "code",
        "colab": {}
      },
      "source": [
        "def display_axial_view(t1, t2, slice):\n",
        "  \"\"\"\n",
        "  Display the axial view for T1 and T2 images for a given slice\n",
        "\n",
        "  Args:\n",
        "    - t1: T1-w Image\n",
        "    - t2: T2-w Image\n",
        "    - slice: The slice of the axial view to display\n",
        "  \"\"\"\n",
        "\n",
        "  f, ax = plt.subplots(1, 2)\n",
        "  ax[0].imshow(t1[:, :, slice], cmap=\"gray\"); ax[1].imshow(t2[:, :, slice], cmap=\"gray\")\n",
        "  ax[0].set_title(\"T1\", fontsize=18); ax[1].set_title(\"T2\", fontsize=18)\n",
        "  ax[0].axis(\"off\"); ax[1].axis(\"off\")\n"
      ],
      "execution_count": 8,
      "outputs": []
    },
    {
      "cell_type": "code",
      "metadata": {
        "id": "tiMLRQ1NjTwo",
        "colab_type": "code",
        "colab": {
          "base_uri": "https://localhost:8080/",
          "height": 203
        },
        "outputId": "2e81c6fd-403e-4e20-eb29-b58c43277c2e"
      },
      "source": [
        "display_axial_view(t1, t2, 60)"
      ],
      "execution_count": 9,
      "outputs": [
        {
          "output_type": "display_data",
          "data": {
            "image/png": "[encoded data removed]",
            "text/plain": [
              "<Figure size 432x288 with 2 Axes>"
            ]
          },
          "metadata": {
            "tags": [],
            "needs_background": "light"
          }
        }
      ]
    },
    {
      "cell_type": "markdown",
      "metadata": {
        "id": "KgXfBDDpiXWc",
        "colab_type": "text"
      },
      "source": [
        "# Milestone #2: Datasets and Transforms\n",
        "\n",
        "Workflow\n",
        "\n",
        "- Create a function that takes a tuple of two images and returns a tuple of the same two cropped (or, equivalently, a patch from the) images, where the cropped images are of the same randomly determined location.\n",
        "\n",
        "- Verify that this was implemented correctly by visualizing the output images as in the previous module.\n",
        "Create a class that inherits from Dataset to handle the NIfTI files. Implement the following methods:\n",
        "\n",
        "  - `__init__`\n",
        "\n",
        "  - `__len__`\n",
        "\n",
        "  - `__getitem__`\n"
      ]
    },
    {
      "cell_type": "code",
      "metadata": {
        "id": "v0IyRLZ4jUb8",
        "colab_type": "code",
        "colab": {}
      },
      "source": [
        "from torch.utils.data.dataset import Dataset\n",
        "\n",
        "\n",
        "class NiftiDataset(Dataset):\n",
        "    def load_image(t1_file, t2_file):\n",
        "    \"\"\"\n",
        "    Load a give T1-w and T2-w pair\n",
        "\n",
        "    Args:\n",
        "      - t1_file: Path to T1-w image\n",
        "      - t2_file: Path to T2-w image\n",
        "\n",
        "    Returns:\n",
        "      (t1, t2): tuple containing loaded T1-w and T2-w images\n",
        "    \"\"\"\n",
        "\n",
        "    t1, t2 = nib.load(t1_file).get_fdata(), nib.load(t2_file).get_fdata()\n",
        "\n",
        "    return (t1, t2)\n",
        "\n",
        "    def __init__(self, source_dir, target_dir, transforms=None):\n",
        "\n",
        "        self.source_dir = source_dir # T1-w images\n",
        "        self.target_dir = target_dir # T2-w images\n",
        "\n",
        "        self.transforms = transforms\n",
        "\n",
        "        self.t1_w = []\n",
        "        self.t2_w = []\n",
        "\n",
        "        for t1, t2 in zip(os.listdir(self.source_dir), os.listdir(self.target_dir)):\n",
        "          t1_data, t2_data = load_image(t1, t2)\n",
        "          self.t1_w.append(t1_data)\n",
        "          self.t2_w.append(t2_data)\n",
        "        \n",
        "        System.out.println(\"Loaded\", len(self.t1_w), \"T1-w images and \", len(self.t2_w), \"T2-w images.\")\n",
        "\n",
        "    def __len__(self):\n",
        "        return len(self.x)\n",
        "\n",
        "    def __getitem__(self, idx):\n",
        "        t1 = self.t1_w[i]\n",
        "        t2 = self.t2_w[i]\n",
        "\n",
        "        if self.transform: return self.transform(t1, t2)\n",
        "\n",
        "        return (t1, t2)\n",
        "\n"
      ],
      "execution_count": null,
      "outputs": []
    },
    {
      "cell_type": "code",
      "metadata": {
        "id": "vNVPZ8I7jNSE",
        "colab_type": "code",
        "colab": {}
      },
      "source": [
        "class RandomCrop3D:\n",
        "  def __init__(self, output_size):\n",
        "    assert isinstance(output_size, (int, tuple))\n",
        "    if isinstance(output_size, int):\n",
        "      self.output_size = (output_size, output_size, output_size)\n",
        "    else:\n",
        "      assert len(output_size) == 3\n",
        "      self.output_size = output_size\n",
        "    print(\"Output Size set to:\", self.output_size)\n",
        "\n",
        "  def __call__(self, sample):\n",
        "    t1, t2 = sample\n",
        "\n",
        "    assert t1.shape == t2.shape, (\"T1-w and T2-w images are not the same size\")\n",
        "\n",
        "    x, y, z = t1.shape\n",
        "    if t1.shape == self.output_size:\n",
        "      x0, y0, z0 =  np.random.randint(low=0, high=x), np.random.randint(low=0, high=y), np.random.randint(low=0, high=z)\n",
        "    else:\n",
        "      x0 = np.random.randint(low=0, high=x - self.output_size[0])\n",
        "      y0 = np.random.randint(low=0, high=y - self.output_size[1])\n",
        "      z0 = np.random.randint(low=0, high=z - self.output_size[2])\n",
        "\n",
        "    crop_t1 = t1[x0: (x + x0), y0: (y+y0), z0: (z+z0)]\n",
        "    crop_t2 = t2[x0: (x + x0), y0: (y+y0), z0: (z+z0)]\n",
        "\n",
        "    return (crop_t1, crop_t2)"
      ],
      "execution_count": 162,
      "outputs": []
    },
    {
      "cell_type": "code",
      "metadata": {
        "id": "1ZfD2LeYwTDU",
        "colab_type": "code",
        "colab": {
          "base_uri": "https://localhost:8080/",
          "height": 68
        },
        "outputId": "475bcf56-a59d-4d71-b0fa-c5308b105560"
      },
      "source": [
        "trans = RandomCrop3D(t1.shape)\n",
        "t1_crop, t2_crop = trans((t1, t2))\n",
        "print(t1.shape, t2.shape)\n",
        "t1_crop.shape, t2_crop.shape"
      ],
      "execution_count": 169,
      "outputs": [
        {
          "output_type": "stream",
          "text": [
            "Output Size set to: (120, 120, 90)\n",
            "(120, 120, 90) (120, 120, 90)\n"
          ],
          "name": "stdout"
        },
        {
          "output_type": "execute_result",
          "data": {
            "text/plain": [
              "((32, 27, 63), (32, 27, 63))"
            ]
          },
          "metadata": {
            "tags": []
          },
          "execution_count": 169
        }
      ]
    },
    {
      "cell_type": "code",
      "metadata": {
        "id": "iTDfP-44wmw7",
        "colab_type": "code",
        "colab": {
          "base_uri": "https://localhost:8080/",
          "height": 231
        },
        "outputId": "53a0c3da-a6a7-4f98-fd51-b3d1754d118d"
      },
      "source": [
        "display_axial_view(t1_crop, t2_crop, 9)"
      ],
      "execution_count": 170,
      "outputs": [
        {
          "output_type": "display_data",
          "data": {
            "image/png": "[encoded data removed]",
            "text/plain": [
              "<Figure size 432x288 with 2 Axes>"
            ]
          },
          "metadata": {
            "tags": [],
            "needs_background": "light"
          }
        }
      ]
    },
    {
      "cell_type": "code",
      "metadata": {
        "id": "_wt9OUHz1tT2",
        "colab_type": "code",
        "colab": {}
      },
      "source": [
        ""
      ],
      "execution_count": null,
      "outputs": []
    }
  ]
}